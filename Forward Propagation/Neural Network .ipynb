{
 "cells": [
  {
   "cell_type": "markdown",
   "metadata": {},
   "source": [
    "### Neural Network  \n",
    "\n",
    "In this part of the exercise, you will implement a neural network to rec-\n",
    "ognize handwritten digits using the same training set as before. The neural\n",
    "network will be able to represent complex models that form non-linear hy-\n",
    "potheses. For this week, you will be using parameters from a neural network\n",
    "that we have already trained. Your goal is to implement the feedforward\n",
    "propagation algorithm to use our weights for prediction."
   ]
  },
  {
   "cell_type": "code",
   "execution_count": 1,
   "metadata": {},
   "outputs": [],
   "source": [
    "# Import libraries for processing\n",
    "\n",
    "import pandas as pd\n",
    "import numpy as np\n",
    "import matplotlib.pyplot as plt\n",
    "\n",
    "# To load matlab file import loadmat method from scipi.io\n",
    "# https://docs.scipy.org/doc/scipy-0.19.0/reference/generated/scipy.io.loadmat.html\n",
    "\n",
    "from scipy.io import loadmat\n"
   ]
  },
  {
   "cell_type": "code",
   "execution_count": 2,
   "metadata": {},
   "outputs": [],
   "source": [
    "mat=loadmat(\"ex3data1.mat\")\n",
    "\n",
    "X = mat[\"X\"]\n",
    "y = mat[\"y\"]"
   ]
  },
  {
   "cell_type": "code",
   "execution_count": 3,
   "metadata": {},
   "outputs": [],
   "source": [
    "mat = loadmat('ex3weights.mat',appendmat=False)"
   ]
  },
  {
   "cell_type": "code",
   "execution_count": 4,
   "metadata": {},
   "outputs": [],
   "source": [
    "# theta1 - 25*401\n",
    "# theta2 - 10*26\n",
    "\n",
    "theta1 = mat['Theta1'] \n",
    "theta2 = mat['Theta2']"
   ]
  },
  {
   "cell_type": "markdown",
   "metadata": {},
   "source": [
    "#### Feedforward Propagation and Prediction\n",
    "\n",
    "Now you will implement feedforward propagation for the neural network.\n",
    "\n",
    "#### Octave Code\n",
    "\n",
    "```\n",
    "function p = predict(Theta1, Theta2, X)\n",
    "\n",
    "m = size(X, 1);\n",
    "num_labels = size(Theta2, 1);\n",
    "\n",
    "% You need to return the following variables correctly \n",
    "p = zeros(size(X, 1), 1);\n",
    "\n",
    "a1 = [ones(m,1) X];\n",
    "\n",
    "z2 = a1 * Theta1';\n",
    "a2 = sigmoid(z2);\n",
    "\n",
    "a2 = [ones(size(a2,1),1) a2];\n",
    "\n",
    "z3 = a2 * Theta2';\n",
    "a3 = sigmoid(z3);\n",
    "\n",
    "\n",
    "\n",
    "[val, index] = max(a3,[],2);\n",
    "\n",
    "p = index;\n",
    "```"
   ]
  },
  {
   "cell_type": "code",
   "execution_count": 5,
   "metadata": {},
   "outputs": [],
   "source": [
    "def sigmoid(z):\n",
    "    \n",
    "    return 1/(1+np.exp(-z))"
   ]
  },
  {
   "cell_type": "code",
   "execution_count": 6,
   "metadata": {},
   "outputs": [],
   "source": [
    "def prediction(theta1,theta2,X):\n",
    "    \n",
    "    m = X.shape[0]\n",
    "    \n",
    "    interceptor = np.ones((m,1))\n",
    "    \n",
    "    X = np.c_[interceptor,X]\n",
    "    \n",
    "    z2 = X @ theta1.T\n",
    "    a1 = sigmoid(z2)\n",
    "    \n",
    "    # Hidden Layer\n",
    "    a1 = np.c_[interceptor,a1]\n",
    "    \n",
    "    z3 = a1 @ theta2.T\n",
    "    a2 = sigmoid(z3)\n",
    "    \n",
    "    # https://docs.scipy.org/doc/numpy/reference/generated/numpy.argmax.html\n",
    "    maxi = np.argmax(a2,axis = 1)+1\n",
    "    # print(maxi)\n",
    "    \n",
    "    return maxi\n",
    "    "
   ]
  },
  {
   "cell_type": "markdown",
   "metadata": {},
   "source": [
    "#### Formula to calculate Training Set Accuracy\n",
    "mean(double(pred == y)) * 100"
   ]
  },
  {
   "cell_type": "code",
   "execution_count": 7,
   "metadata": {},
   "outputs": [
    {
     "name": "stdout",
     "output_type": "stream",
     "text": [
      "Training Set Accuracy : 97.52 %\n"
     ]
    }
   ],
   "source": [
    "predicted_value = prediction(theta1,theta2,X)\n",
    "\n",
    "# Calculate how many values are classified correctly by comparing it with actual value y.\n",
    "print('Training Set Accuracy :',sum(predicted_value[:,np.newaxis]==y)[0]/5000*100,'%')"
   ]
  }
 ],
 "metadata": {
  "kernelspec": {
   "display_name": "Python 3",
   "language": "python",
   "name": "python3"
  },
  "language_info": {
   "codemirror_mode": {
    "name": "ipython",
    "version": 3
   },
   "file_extension": ".py",
   "mimetype": "text/x-python",
   "name": "python",
   "nbconvert_exporter": "python",
   "pygments_lexer": "ipython3",
   "version": "3.7.4"
  }
 },
 "nbformat": 4,
 "nbformat_minor": 2
}
